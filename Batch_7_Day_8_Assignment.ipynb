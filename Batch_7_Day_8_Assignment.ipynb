{
  "nbformat": 4,
  "nbformat_minor": 0,
  "metadata": {
    "colab": {
      "name": "Batch 7 Day 8 Assignment.ipynb",
      "provenance": [],
      "collapsed_sections": []
    },
    "kernelspec": {
      "name": "python3",
      "display_name": "Python 3"
    }
  },
  "cells": [
    {
      "cell_type": "code",
      "metadata": {
        "id": "AJFZ21TdHaFp",
        "colab_type": "code",
        "colab": {}
      },
      "source": [
        "## Assignment 1 \n",
        "#decorator \n",
        "\n",
        "def getInput(calculate_arg_fun):\n",
        "    \n",
        "    def wrap_function():\n",
        "    \n",
        "        a = int(input(\"\\nEnter First Number - \"))\n",
        "        \n",
        "        b = int(input(\"\\nEnter Second Number - \"))\n",
        "        \n",
        "        calculate_arg_fun(a,b)   \n",
        "    \n",
        "    return wrap_function"
      ],
      "execution_count": 14,
      "outputs": []
    },
    {
      "cell_type": "code",
      "metadata": {
        "id": "lPUpiwKDHisR",
        "colab_type": "code",
        "colab": {
          "base_uri": "https://localhost:8080/",
          "height": 153
        },
        "outputId": "b073d035-cec0-489a-a644-e8a7998a250e"
      },
      "source": [
        "@getInput\n",
        "\n",
        "def EvenFinder(start, last):\n",
        "    \n",
        "    print(\"\\nThe Even numbers in the range\",start,\"to\",last,\"is :\\n\")\n",
        "\n",
        "    for n in range(start, last + 1): \n",
        "      \n",
        "        if n % 2 == 0: \n",
        "            \n",
        "            print(n, end = \" \")\n",
        "\n",
        "EvenFinder()\n"
      ],
      "execution_count": 29,
      "outputs": [
        {
          "output_type": "stream",
          "text": [
            "\n",
            "Enter First Number - 1\n",
            "\n",
            "Enter Second Number - 30\n",
            "\n",
            "The Even numbers in the range 1 to 30 is :\n",
            "\n",
            "2 4 6 8 10 12 14 16 18 20 22 24 26 28 30 "
          ],
          "name": "stdout"
        }
      ]
    },
    {
      "cell_type": "code",
      "metadata": {
        "id": "BhzVInapIj12",
        "colab_type": "code",
        "colab": {}
      },
      "source": [
        "\n",
        "# Assignment 2 \n",
        "#Exception Handling\n"
      ],
      "execution_count": null,
      "outputs": []
    },
    {
      "cell_type": "code",
      "metadata": {
        "id": "MRHjqgd4IraK",
        "colab_type": "code",
        "colab": {
          "base_uri": "https://localhost:8080/",
          "height": 34
        },
        "outputId": "4a98c3ab-7311-4b4a-fd44-167577ea1ac2"
      },
      "source": [
        "%%writefile test.txt\n",
        "\n",
        "Hi this is Neha\n",
        "i love letsupgrade"
      ],
      "execution_count": 19,
      "outputs": [
        {
          "output_type": "stream",
          "text": [
            "Writing test.txt\n"
          ],
          "name": "stdout"
        }
      ]
    },
    {
      "cell_type": "code",
      "metadata": {
        "id": "vJZF-95PIvYS",
        "colab_type": "code",
        "colab": {
          "base_uri": "https://localhost:8080/",
          "height": 85
        },
        "outputId": "6492ec1c-d40d-4108-da2f-090316bc11ee"
      },
      "source": [
        "# opening file in read mode and tring to write \n",
        "\n",
        "try:\n",
        "    \n",
        "    file = open(\"test.txt\",\"r\")\n",
        "    \n",
        "    file.write(\"\\nI am from Noida.\")\n",
        "    \n",
        "    print(\"\\nWrite operation has done successfully in read only mode.\")\n",
        "    \n",
        "except Exception as e:\n",
        "    \n",
        "    print(\"\\nError has been occured\")\n",
        "    \n",
        "    print(\"\\nError message is :\",e)"
      ],
      "execution_count": 20,
      "outputs": [
        {
          "output_type": "stream",
          "text": [
            "\n",
            "Error has been occured\n",
            "\n",
            "Error message is : not writable\n"
          ],
          "name": "stdout"
        }
      ]
    }
  ]
}