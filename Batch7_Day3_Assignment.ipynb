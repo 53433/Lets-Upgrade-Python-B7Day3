{
  "nbformat": 4,
  "nbformat_minor": 0,
  "metadata": {
    "colab": {
      "name": "Batch7 Day3 Assignment.ipynb",
      "provenance": [],
      "collapsed_sections": []
    },
    "kernelspec": {
      "name": "python3",
      "display_name": "Python 3"
    }
  },
  "cells": [
    {
      "cell_type": "code",
      "metadata": {
        "id": "vCozhjdqlk2_",
        "colab_type": "code",
        "colab": {}
      },
      "source": [
        "# Assignment 1 Day 3"
      ],
      "execution_count": null,
      "outputs": []
    },
    {
      "cell_type": "code",
      "metadata": {
        "id": "5BpwPvUDlr_F",
        "colab_type": "code",
        "colab": {
          "base_uri": "https://localhost:8080/",
          "height": 51
        },
        "outputId": "e89020d8-21f4-4ec5-ae70-7dc097dee849"
      },
      "source": [
        "pilot =500\n",
        "pilot=5000\n",
        "if pilot <1000:\n",
        "  print(\"safe to land the plane\")\n",
        "  print(\"safe to land the plane\")\n",
        "elif pilot <=5000:\n",
        "   print(\"comedown to 1000ft\")\n",
        "   print(\"comedown to 1000ft\")\n",
        "else:\n",
        "    print(\"go around and try later\")\n",
        "    print(\"go around and try later\")"
      ],
      "execution_count": null,
      "outputs": [
        {
          "output_type": "stream",
          "text": [
            "comedown to 1000ft\n",
            "comedown to 1000ft\n"
          ],
          "name": "stdout"
        }
      ]
    },
    {
      "cell_type": "code",
      "metadata": {
        "id": "Lmbq30mklx4C",
        "colab_type": "code",
        "colab": {}
      },
      "source": [
        "## Assignment 2 Day 3"
      ],
      "execution_count": null,
      "outputs": []
    },
    {
      "cell_type": "code",
      "metadata": {
        "id": "B0LFmr6yl5pq",
        "colab_type": "code",
        "colab": {
          "base_uri": "https://localhost:8080/",
          "height": 799
        },
        "outputId": "6b146072-2a94-46ce-ec7b-4496ba0dd3de"
      },
      "source": [
        "lower =1\n",
        "upper =200\n",
        "\n",
        "for num in range(lower,upper+1):\n",
        "  if num>1:\n",
        "    for i in range (2,num):\n",
        "          if(num%i)==0:\n",
        "               break\n",
        "    else:\n",
        "              print (num)\n"
      ],
      "execution_count": null,
      "outputs": [
        {
          "output_type": "stream",
          "text": [
            "2\n",
            "3\n",
            "5\n",
            "7\n",
            "11\n",
            "13\n",
            "17\n",
            "19\n",
            "23\n",
            "29\n",
            "31\n",
            "37\n",
            "41\n",
            "43\n",
            "47\n",
            "53\n",
            "59\n",
            "61\n",
            "67\n",
            "71\n",
            "73\n",
            "79\n",
            "83\n",
            "89\n",
            "97\n",
            "101\n",
            "103\n",
            "107\n",
            "109\n",
            "113\n",
            "127\n",
            "131\n",
            "137\n",
            "139\n",
            "149\n",
            "151\n",
            "157\n",
            "163\n",
            "167\n",
            "173\n",
            "179\n",
            "181\n",
            "191\n",
            "193\n",
            "197\n",
            "199\n"
          ],
          "name": "stdout"
        }
      ]
    }
  ]
}